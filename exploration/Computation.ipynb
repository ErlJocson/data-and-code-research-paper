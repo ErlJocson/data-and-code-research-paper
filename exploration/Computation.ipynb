{
 "cells": [
  {
   "cell_type": "code",
   "execution_count": null,
   "metadata": {},
   "outputs": [],
   "source": [
    "import pandas as pd\n",
    "import seaborn as sns\n",
    "from matplotlib import pyplot as plt\n",
    "import warnings\n",
    "warnings.filterwarnings('ignore')\n",
    "from sklearn.preprocessing import OrdinalEncoder"
   ]
  },
  {
   "cell_type": "code",
   "execution_count": null,
   "metadata": {},
   "outputs": [],
   "source": [
    "df = pd.read_csv('../Book1.csv')\n",
    "\n",
    "df.head()"
   ]
  },
  {
   "cell_type": "code",
   "execution_count": null,
   "metadata": {},
   "outputs": [],
   "source": [
    "male_drop, male_not_drop = len(df.gender[df.gender == 'Male'][df.event == 1]), len(df.gender[df.gender == 'Male'][df.event == 0]),\n",
    "female_drop, female_not_drop =  len(df.gender[df.gender == 'Female'][df.event == 1]), len(df.gender[df.gender == 'Female'][df.event == 0])\n",
    "\n",
    "total_male = male_drop + male_not_drop\n",
    "total_female = female_drop + female_not_drop\n",
    "\n",
    "percentage_of_male_dropout = (male_drop/total_male) * 100\n",
    "percentage_of_male_not_dropout = (male_not_drop/total_male) * 100\n",
    "percentage_of_female_dropout = (female_drop/total_female) * 100\n",
    "percentage_of_female_not_dropout = (female_not_drop/total_female) * 100\n",
    "\n",
    "confusion_df = pd.DataFrame(index=['Male', 'Female'])\n",
    "confusion_df['Yes'] = [f'{male_drop} ({round(percentage_of_male_dropout, 2)}%)', f'{female_drop}({round(percentage_of_female_dropout, 2)}%)']\n",
    "confusion_df['No'] = [f'{male_not_drop} ({round(percentage_of_male_not_dropout, 2)}%)', f'{female_not_drop} ({round(percentage_of_female_not_dropout, 2)}%)']\n",
    "confusion_df.to_csv('confusion matrix of sex and event.csv') \n",
    "confusion_df"
   ]
  },
  {
   "cell_type": "code",
   "execution_count": null,
   "metadata": {},
   "outputs": [],
   "source": [
    "df[['income','event']][df.event == 1].groupby(['income']).count()"
   ]
  },
  {
   "cell_type": "code",
   "execution_count": null,
   "metadata": {},
   "outputs": [],
   "source": []
  }
 ],
 "metadata": {
  "interpreter": {
   "hash": "a4c96b2dc6ad5c4f508d69f4320d2fb8afa26a1f46270275ec28a18b6e5061e8"
  },
  "kernelspec": {
   "display_name": "Python 3.8.10 ('venv': venv)",
   "language": "python",
   "name": "python3"
  },
  "language_info": {
   "codemirror_mode": {
    "name": "ipython",
    "version": 3
   },
   "file_extension": ".py",
   "mimetype": "text/x-python",
   "name": "python",
   "nbconvert_exporter": "python",
   "pygments_lexer": "ipython3",
   "version": "3.8.10"
  },
  "orig_nbformat": 4
 },
 "nbformat": 4,
 "nbformat_minor": 2
}
