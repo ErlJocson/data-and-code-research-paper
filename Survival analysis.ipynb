{
 "cells": [
  {
   "cell_type": "code",
   "execution_count": null,
   "metadata": {},
   "outputs": [],
   "source": [
    "import random\n",
    "random.seed(0)\n",
    "from sklearn.preprocessing import OrdinalEncoder, LabelEncoder\n",
    "\n",
    "from lifelines import CoxPHFitter\n",
    "from lifelines.utils import restricted_mean_survival_time\n",
    "from lifelines.statistics import proportional_hazard_test\n",
    "\n",
    "import pandas as pd\n",
    "import seaborn as sns\n",
    "from matplotlib import pyplot as plt\n",
    "import warnings\n",
    "warnings.filterwarnings('ignore')"
   ]
  },
  {
   "cell_type": "code",
   "execution_count": null,
   "metadata": {},
   "outputs": [],
   "source": [
    "original_data = pd.read_csv('Book1.csv')\n",
    "original_data = original_data.drop(['p1','p2','p3','p4','p5','s1','s2','s3','s4','s5','c1','c2','c3','c4','c5','e1','e2','e3','e4','e5'], axis=1)\n",
    "\n",
    "scores = pd.read_csv('factors.csv')\n",
    "original_data = original_data.join(scores)\n",
    "original_data.head(2)"
   ]
  },
  {
   "cell_type": "code",
   "execution_count": null,
   "metadata": {},
   "outputs": [],
   "source": [
    "education = ['No formal education', 'Elementary', 'High School', 'College', 'Masters', 'PHd']\n",
    "income = ['Less than  9,520', ' 9,520 to  21,194', ' 21,194 -  43,828', ' 43,828 -  76,669', ' 76,669 -  131,484', ' 131,484 -  219,140', ' 219,140 and up']\n",
    "gender = ['Female', 'Male']\n",
    "\n",
    "oe = OrdinalEncoder(categories=[education, education, income, gender])\n",
    "le = LabelEncoder()\n",
    "\n",
    "event = pd.DataFrame(le.fit_transform(original_data['event']), columns=['event'])\n",
    "education_and_income = pd.DataFrame(oe.fit_transform(original_data[['f-edu', 'm-edu', 'income', 'gender']]), columns=['F-edu', 'M-edu', 'Income', 'Gender'])"
   ]
  },
  {
   "cell_type": "code",
   "execution_count": null,
   "metadata": {},
   "outputs": [],
   "source": [
    "df = original_data.drop(['gender', 'f-edu', 'm-edu', 'income', 'event'], axis=1)\n",
    "df = df.join(event)\n",
    "df = df.join(education_and_income)\n",
    "df.head()"
   ]
  },
  {
   "cell_type": "code",
   "execution_count": null,
   "metadata": {},
   "outputs": [],
   "source": [
    "model = CoxPHFitter()\n",
    "model.fit(df, 'duration', 'event')\n",
    "model.print_summary(model=\"Cox regression\", decimals=3)"
   ]
  },
  {
   "cell_type": "code",
   "execution_count": null,
   "metadata": {},
   "outputs": [],
   "source": [
    "results = model.log_likelihood_ratio_test()\n",
    "results"
   ]
  },
  {
   "cell_type": "code",
   "execution_count": null,
   "metadata": {},
   "outputs": [],
   "source": [
    "survival_function = model.baseline_survival_\n",
    "survival_function.to_csv('survival function.csv')\n",
    "survival_function"
   ]
  },
  {
   "cell_type": "code",
   "execution_count": null,
   "metadata": {},
   "outputs": [],
   "source": [
    "rmst = restricted_mean_survival_time(model.baseline_survival_)\n",
    "\n",
    "sns.lineplot(survival_function.index, survival_function['baseline survival'], drawstyle=\"steps-post\")\n",
    "plt.title('Survival function')\n",
    "plt.text(20, .98, f'Mean survival time: {round(rmst, 2)}')\n",
    "plt.xlabel('Duration (weeks)')\n",
    "plt.show()"
   ]
  },
  {
   "cell_type": "code",
   "execution_count": null,
   "metadata": {},
   "outputs": [],
   "source": [
    "baseline_cumhaz = model.baseline_cumulative_hazard_\n",
    "baseline_cumhaz.to_csv('baseline cumhazard.csv')\n",
    "baseline_cumhaz"
   ]
  },
  {
   "cell_type": "code",
   "execution_count": null,
   "metadata": {},
   "outputs": [],
   "source": [
    "sns.lineplot(baseline_cumhaz.index, baseline_cumhaz['baseline cumulative hazard'], drawstyle=\"steps-post\")\n",
    "plt.title('Cumulative hazard')\n",
    "plt.xlabel('Duration (weeks)')"
   ]
  },
  {
   "cell_type": "code",
   "execution_count": null,
   "metadata": {},
   "outputs": [],
   "source": [
    "hazard_rate = model.baseline_hazard_ \n",
    "hazard_rate.to_csv('hazard rate.csv')\n",
    "hazard_rate"
   ]
  },
  {
   "cell_type": "code",
   "execution_count": null,
   "metadata": {},
   "outputs": [],
   "source": [
    "sns.lineplot(hazard_rate.index, hazard_rate['baseline hazard'])\n",
    "plt.title('Hazard rate')\n",
    "plt.xlabel('Duration (weeks)')"
   ]
  },
  {
   "cell_type": "code",
   "execution_count": null,
   "metadata": {},
   "outputs": [],
   "source": [
    "model.plot_partial_effects_on_outcome('Gender', [0, 1])\n",
    "plt.xlabel('Duration (weeks)')"
   ]
  },
  {
   "cell_type": "code",
   "execution_count": null,
   "metadata": {},
   "outputs": [],
   "source": [
    "model.plot_covariate_groups('Economic factor', values=[-1, -0.5, .5, 1])\n",
    "plt.xlabel('Duration (weeks)')\n"
   ]
  },
  {
   "cell_type": "code",
   "execution_count": null,
   "metadata": {},
   "outputs": [],
   "source": [
    "model.plot_covariate_groups('Social factor', values=[-1, -0.5, .5, 1])\n",
    "plt.xlabel('Duration (weeks)')\n"
   ]
  },
  {
   "cell_type": "code",
   "execution_count": null,
   "metadata": {},
   "outputs": [],
   "source": [
    "model.plot_covariate_groups('Gender', [0, 1])"
   ]
  },
  {
   "cell_type": "code",
   "execution_count": null,
   "metadata": {},
   "outputs": [],
   "source": [
    "res = model.check_assumptions(\n",
    "    df, \n",
    "    p_value_threshold=0.05, \n",
    "    show_plots=True, \n",
    "    advice=True\n",
    ")\n",
    "\n",
    "res"
   ]
  },
  {
   "cell_type": "code",
   "execution_count": null,
   "metadata": {},
   "outputs": [],
   "source": [
    "results = proportional_hazard_test(model, df, time_transform='rank')\n",
    "results.print_summary(decimals=3, model=\"untransformed variables\")"
   ]
  },
  {
   "cell_type": "code",
   "execution_count": null,
   "metadata": {},
   "outputs": [],
   "source": [
    "from bioinfokit.analys import stat\n",
    "\n",
    "ctab = pd.crosstab(df.Gender, df.event)\n",
    "\n",
    "res = stat()\n",
    "\n",
    "res.chisq(df=ctab)\n",
    "\n",
    "chi_square_test_res = pd.DataFrame(\n",
    "    [\n",
    "        [1,18.298,'<0.001'],\n",
    "        [1,18.119,'<0.001']\n",
    "    ],\n",
    "    columns=['df', 'Chi-square', 'p'],\n",
    "    index = ['Pearson','Log-likelihood']\n",
    ")\n",
    "\n",
    "chi_square_test_res.to_csv('Chi square result.csv')\n",
    "chi_square_test_res\n"
   ]
  }
 ],
 "metadata": {
  "interpreter": {
   "hash": "7e01aff54314f696f0ec5e5473609a87b85818ade08f12f00b2048c92d91ab6f"
  },
  "kernelspec": {
   "display_name": "Python 3.8.10 64-bit",
   "language": "python",
   "name": "python3"
  },
  "language_info": {
   "codemirror_mode": {
    "name": "ipython",
    "version": 3
   },
   "file_extension": ".py",
   "mimetype": "text/x-python",
   "name": "python",
   "nbconvert_exporter": "python",
   "pygments_lexer": "ipython3",
   "version": "3.8.10"
  },
  "orig_nbformat": 4
 },
 "nbformat": 4,
 "nbformat_minor": 2
}
