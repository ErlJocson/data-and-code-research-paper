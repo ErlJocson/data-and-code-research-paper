{
 "cells": [
  {
   "cell_type": "code",
   "execution_count": null,
   "metadata": {},
   "outputs": [],
   "source": [
    "import random\n",
    "random.seed(0)\n",
    "import pandas as pd\n",
    "from sklearn.preprocessing import OrdinalEncoder\n",
    "from factor_analyzer import FactorAnalyzer\n",
    "from matplotlib import pyplot as plt\n",
    "import pingouin as pg"
   ]
  },
  {
   "cell_type": "code",
   "execution_count": null,
   "metadata": {},
   "outputs": [],
   "source": [
    "df = pd.read_csv('Book1.csv')\n",
    "df.head(3)\n",
    "factors = df[['p1','p2','p3','p4','p5','s1','s2','s3','s4','s5','c1','c2','c3','c4','c5','e1','e2','e3','e4','e5']]"
   ]
  },
  {
   "cell_type": "code",
   "execution_count": null,
   "metadata": {},
   "outputs": [],
   "source": [
    "oe = OrdinalEncoder(\n",
    "    categories=[['1', '2', '3', '4', '5']]\n",
    ")\n",
    "\n",
    "for col in factors:\n",
    "    oe.fit_transform(df[[col]])"
   ]
  },
  {
   "cell_type": "code",
   "execution_count": null,
   "metadata": {},
   "outputs": [],
   "source": [
    "from factor_analyzer.factor_analyzer import calculate_bartlett_sphericity\n",
    "chisquare, p_value = calculate_bartlett_sphericity(factors)\n",
    "frame = {\n",
    "    'Chi square':[chisquare],\n",
    "    'p':[p_value]\n",
    "}\n",
    "\n",
    "bartletts_dataframe = pd.DataFrame(frame, columns=['Chi square', 'p'], index=['Bartletts test'])\n",
    "bartletts_dataframe.to_csv('bartletts.csv')\n",
    "bartletts_dataframe"
   ]
  },
  {
   "cell_type": "code",
   "execution_count": null,
   "metadata": {},
   "outputs": [],
   "source": [
    "from factor_analyzer.factor_analyzer import calculate_kmo\n",
    "kmo_all, kmo_model = calculate_kmo(factors)\n",
    "kmo_values = pd.DataFrame(kmo_all, columns=['KMO'], index=[factors.columns])\n",
    "kmo_values.to_csv('kmo.csv')\n",
    "kmo_values, kmo_model"
   ]
  },
  {
   "cell_type": "code",
   "execution_count": null,
   "metadata": {},
   "outputs": [],
   "source": [
    "x = [[i] for i in range(21)]\n",
    "y = [1 for i in range(21)]\n",
    "\n",
    "fa = FactorAnalyzer()\n",
    "fa.fit(factors)\n",
    "ev, v = fa.get_eigenvalues()\n",
    "eigen_values_df = pd.DataFrame(ev, columns=['Eigenvalues'])\n",
    "eigen_values_df.to_csv('Eigenvalues.csv')\n",
    "\n",
    "plt.figure(figsize=(9, 5))\n",
    "eigen_values_df.plot()\n",
    "plt.scatter([i for i in range(len(eigen_values_df))], eigen_values_df)\n",
    "plt.title('Scree Plot', size=15)\n",
    "plt.xlabel('Factors')\n",
    "plt.ylabel('Eigenvalue')\n",
    "plt.plot(x, y, c='r', linewidth=4)\n",
    "plt.show()"
   ]
  },
  {
   "cell_type": "code",
   "execution_count": null,
   "metadata": {},
   "outputs": [],
   "source": [
    "fa = FactorAnalyzer(n_factors=4, method='minres',rotation='oblimin')\n",
    "fa.fit(factors)"
   ]
  },
  {
   "cell_type": "code",
   "execution_count": null,
   "metadata": {},
   "outputs": [],
   "source": [
    "factor_loadings = pd.DataFrame(fa.loadings_, columns=['Factor 1', 'Factor 2', 'Factor 3', 'Factor 4'], index=[factors.columns])\n",
    "factor_loadings['Uniquenesses'] = fa.get_uniquenesses()\n",
    "factor_loadings['Communality'] = fa.get_communalities()\n",
    "factor_loadings.to_csv('loadings.csv')\n",
    "factor_loadings"
   ]
  },
  {
   "cell_type": "code",
   "execution_count": null,
   "metadata": {},
   "outputs": [],
   "source": [
    "p = factors[['p1', 'p2', 'p3', 'p4', 'p5']]\n",
    "s = factors[['s1', 's2', 's3', 's4', 's5']]\n",
    "c = factors[['c1', 'c2', 'c3', 'c4', 'c5']]\n",
    "e = factors[['e1', 'e2', 'e3', 'e4', 'e5']]\n",
    "\n",
    "cronbach_p = pg.cronbach_alpha(data=p)\n",
    "cronbach_s = pg.cronbach_alpha(data=s)\n",
    "cronbach_c = pg.cronbach_alpha(data=c)\n",
    "cronbach_e = pg.cronbach_alpha(data=e)\n",
    "\n",
    "values = [\n",
    "    cronbach_p[0],\n",
    "    cronbach_s[0],\n",
    "    cronbach_c[0],\n",
    "    cronbach_e[0],\n",
    "]\n",
    "\n",
    "cronbach_all = pd.DataFrame(values, columns=['Cronbach alpha'], index=['Personal factor', 'Social factor', 'Course factor', 'Economic factor'])\n",
    "cronbach_all.to_csv('Cronbach.csv')\n",
    "cronbach_all"
   ]
  },
  {
   "cell_type": "code",
   "execution_count": null,
   "metadata": {},
   "outputs": [],
   "source": [
    "def compute_cronbach_if_one_item_removed(dataframe):\n",
    "    values = []\n",
    "    new_df = dataframe.copy()\n",
    "    for col in new_df:\n",
    "        one_item_removed = dataframe.drop([col], axis=1)\n",
    "        result = pg.cronbach_alpha(data=one_item_removed)\n",
    "        values.append(result[0])\n",
    "        new_df = dataframe.copy()\n",
    "    return values\n",
    "\n",
    "def compute_the_cronbach_and_save_df(dataframe, title):\n",
    "    details = {\n",
    "        title: compute_cronbach_if_one_item_removed(dataframe)\n",
    "    }\n",
    "    results = pd.DataFrame(details, index=dataframe.columns)\n",
    "    results.to_csv(f'{title} if item removed.csv')"
   ]
  },
  {
   "cell_type": "code",
   "execution_count": null,
   "metadata": {},
   "outputs": [],
   "source": [
    "compute_the_cronbach_and_save_df(p, \"Personal factor\")\n",
    "compute_the_cronbach_and_save_df(c, \"Course factor\")\n",
    "compute_the_cronbach_and_save_df(e, \"Economic factor\")\n",
    "compute_the_cronbach_and_save_df(s, \"Social factor\")"
   ]
  },
  {
   "cell_type": "code",
   "execution_count": null,
   "metadata": {},
   "outputs": [],
   "source": [
    "factor_summary = pd.DataFrame(fa.get_factor_variance(), columns=['Factor 1','Factor 2','Factor 3','Factor 4'], index=['SS Loadings','Proportion Var','Cumulative Var'])\n",
    "factor_summary.to_csv('factor_variance.csv')\n",
    "factor_summary"
   ]
  },
  {
   "cell_type": "code",
   "execution_count": null,
   "metadata": {},
   "outputs": [],
   "source": [
    "factor_score = pd.DataFrame(fa.transform(factors), columns=['Economic factor', 'Course factor', 'Personal factor', 'Social factor'])\n",
    "factor_score.to_csv(\"Factors.csv\", index=False)"
   ]
  }
 ],
 "metadata": {
  "interpreter": {
   "hash": "7e01aff54314f696f0ec5e5473609a87b85818ade08f12f00b2048c92d91ab6f"
  },
  "kernelspec": {
   "display_name": "Python 3.8.10 64-bit",
   "language": "python",
   "name": "python3"
  },
  "language_info": {
   "codemirror_mode": {
    "name": "ipython",
    "version": 3
   },
   "file_extension": ".py",
   "mimetype": "text/x-python",
   "name": "python",
   "nbconvert_exporter": "python",
   "pygments_lexer": "ipython3",
   "version": "3.8.10"
  },
  "orig_nbformat": 4
 },
 "nbformat": 4,
 "nbformat_minor": 2
}
