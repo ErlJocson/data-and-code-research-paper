{
 "cells": [
  {
   "cell_type": "code",
   "execution_count": 1,
   "metadata": {},
   "outputs": [],
   "source": [
    "import random\n",
    "random.seed(0)\n",
    "import pandas as pd\n",
    "from sklearn.preprocessing import OrdinalEncoder\n",
    "from factor_analyzer import FactorAnalyzer\n",
    "from matplotlib import pyplot as plt\n",
    "import pingouin as pg"
   ]
  },
  {
   "cell_type": "code",
   "execution_count": 2,
   "metadata": {},
   "outputs": [],
   "source": [
    "df = pd.read_csv('Book1.csv')\n",
    "df.head(3)\n",
    "factors = df[['p1','p2','p3','p4','p5','s1','s2','s3','s4','s5','c1','c2','c3','c4','c5','e1','e2','e3','e4','e5']]"
   ]
  },
  {
   "cell_type": "code",
   "execution_count": 3,
   "metadata": {},
   "outputs": [],
   "source": [
    "oe = OrdinalEncoder(\n",
    "    categories=[['1', '2', '3', '4', '5']]\n",
    ")\n",
    "\n",
    "for col in factors:\n",
    "    oe.fit_transform(df[[col]])"
   ]
  },
  {
   "cell_type": "code",
   "execution_count": 4,
   "metadata": {},
   "outputs": [
    {
     "data": {
      "text/html": [
       "<div>\n",
       "<style scoped>\n",
       "    .dataframe tbody tr th:only-of-type {\n",
       "        vertical-align: middle;\n",
       "    }\n",
       "\n",
       "    .dataframe tbody tr th {\n",
       "        vertical-align: top;\n",
       "    }\n",
       "\n",
       "    .dataframe thead th {\n",
       "        text-align: right;\n",
       "    }\n",
       "</style>\n",
       "<table border=\"1\" class=\"dataframe\">\n",
       "  <thead>\n",
       "    <tr style=\"text-align: right;\">\n",
       "      <th></th>\n",
       "      <th>Chi square</th>\n",
       "      <th>p</th>\n",
       "    </tr>\n",
       "  </thead>\n",
       "  <tbody>\n",
       "    <tr>\n",
       "      <th>Bartletts test</th>\n",
       "      <td>4323.148805</td>\n",
       "      <td>0.0</td>\n",
       "    </tr>\n",
       "  </tbody>\n",
       "</table>\n",
       "</div>"
      ],
      "text/plain": [
       "                 Chi square    p\n",
       "Bartletts test  4323.148805  0.0"
      ]
     },
     "execution_count": 4,
     "metadata": {},
     "output_type": "execute_result"
    }
   ],
   "source": [
    "from factor_analyzer.factor_analyzer import calculate_bartlett_sphericity\n",
    "chisquare, p_value = calculate_bartlett_sphericity(factors)\n",
    "frame = {\n",
    "    'Chi square':[chisquare],\n",
    "    'p':[p_value]\n",
    "}\n",
    "\n",
    "bartletts_dataframe = pd.DataFrame(frame, columns=['Chi square', 'p'], index=['Bartletts test'])\n",
    "bartletts_dataframe.to_csv('bartletts.csv')\n",
    "bartletts_dataframe"
   ]
  },
  {
   "cell_type": "code",
   "execution_count": 5,
   "metadata": {},
   "outputs": [
    {
     "data": {
      "text/plain": [
       "(         KMO\n",
       " p1  0.922849\n",
       " p2  0.917207\n",
       " p3  0.888054\n",
       " p4  0.865025\n",
       " p5  0.896004\n",
       " s1  0.906608\n",
       " s2  0.870745\n",
       " s3  0.841894\n",
       " s4  0.900143\n",
       " s5  0.825217\n",
       " c1  0.922133\n",
       " c2  0.901992\n",
       " c3  0.925461\n",
       " c4  0.913205\n",
       " c5  0.915893\n",
       " e1  0.920624\n",
       " e2  0.892417\n",
       " e3  0.917031\n",
       " e4  0.899028\n",
       " e5  0.888578,\n",
       " 0.900422062591626)"
      ]
     },
     "execution_count": 5,
     "metadata": {},
     "output_type": "execute_result"
    }
   ],
   "source": [
    "from factor_analyzer.factor_analyzer import calculate_kmo\n",
    "kmo_all, kmo_model = calculate_kmo(factors)\n",
    "kmo_values = pd.DataFrame(kmo_all, columns=['KMO'], index=[factors.columns])\n",
    "kmo_values.to_csv('kmo.csv')\n",
    "kmo_values, kmo_model"
   ]
  },
  {
   "cell_type": "code",
   "execution_count": 6,
   "metadata": {},
   "outputs": [
    {
     "data": {
      "text/plain": [
       "<Figure size 648x360 with 0 Axes>"
      ]
     },
     "metadata": {},
     "output_type": "display_data"
    },
    {
     "data": {
      "image/png": "[encoded data removed]",
      "text/plain": [
       "<Figure size 432x288 with 1 Axes>"
      ]
     },
     "metadata": {
      "needs_background": "light"
     },
     "output_type": "display_data"
    }
   ],
   "source": [
    "fa = FactorAnalyzer()\n",
    "fa.fit(factors)\n",
    "ev, v = fa.get_eigenvalues()\n",
    "eigen_values_df = pd.DataFrame(ev, columns=['Eigenvalues'])\n",
    "eigen_values_df.to_csv('Eigenvalues.csv')\n",
    "\n",
    "plt.figure(figsize=(9, 5))\n",
    "eigen_values_df.plot()\n",
    "plt.scatter([i for i in range(len(eigen_values_df))], eigen_values_df)\n",
    "plt.title('Scree Plot', size=15)\n",
    "plt.xlabel('Factors')\n",
    "plt.ylabel('Eigenvalue')\n",
    "plt.show()"
   ]
  },
  {
   "cell_type": "code",
   "execution_count": null,
   "metadata": {},
   "outputs": [],
   "source": []
  },
  {
   "cell_type": "code",
   "execution_count": 7,
   "metadata": {},
   "outputs": [
    {
     "data": {
      "text/html": [
       "<style>#sk-container-id-1 {color: black;background-color: white;}#sk-container-id-1 pre{padding: 0;}#sk-container-id-1 div.sk-toggleable {background-color: white;}#sk-container-id-1 label.sk-toggleable__label {cursor: pointer;display: block;width: 100%;margin-bottom: 0;padding: 0.3em;box-sizing: border-box;text-align: center;}#sk-container-id-1 label.sk-toggleable__label-arrow:before {content: \"▸\";float: left;margin-right: 0.25em;color: #696969;}#sk-container-id-1 label.sk-toggleable__label-arrow:hover:before {color: black;}#sk-container-id-1 div.sk-estimator:hover label.sk-toggleable__label-arrow:before {color: black;}#sk-container-id-1 div.sk-toggleable__content {max-height: 0;max-width: 0;overflow: hidden;text-align: left;background-color: #f0f8ff;}#sk-container-id-1 div.sk-toggleable__content pre {margin: 0.2em;color: black;border-radius: 0.25em;background-color: #f0f8ff;}#sk-container-id-1 input.sk-toggleable__control:checked~div.sk-toggleable__content {max-height: 200px;max-width: 100%;overflow: auto;}#sk-container-id-1 input.sk-toggleable__control:checked~label.sk-toggleable__label-arrow:before {content: \"▾\";}#sk-container-id-1 div.sk-estimator input.sk-toggleable__control:checked~label.sk-toggleable__label {background-color: #d4ebff;}#sk-container-id-1 div.sk-label input.sk-toggleable__control:checked~label.sk-toggleable__label {background-color: #d4ebff;}#sk-container-id-1 input.sk-hidden--visually {border: 0;clip: rect(1px 1px 1px 1px);clip: rect(1px, 1px, 1px, 1px);height: 1px;margin: -1px;overflow: hidden;padding: 0;position: absolute;width: 1px;}#sk-container-id-1 div.sk-estimator {font-family: monospace;background-color: #f0f8ff;border: 1px dotted black;border-radius: 0.25em;box-sizing: border-box;margin-bottom: 0.5em;}#sk-container-id-1 div.sk-estimator:hover {background-color: #d4ebff;}#sk-container-id-1 div.sk-parallel-item::after {content: \"\";width: 100%;border-bottom: 1px solid gray;flex-grow: 1;}#sk-container-id-1 div.sk-label:hover label.sk-toggleable__label {background-color: #d4ebff;}#sk-container-id-1 div.sk-serial::before {content: \"\";position: absolute;border-left: 1px solid gray;box-sizing: border-box;top: 0;bottom: 0;left: 50%;z-index: 0;}#sk-container-id-1 div.sk-serial {display: flex;flex-direction: column;align-items: center;background-color: white;padding-right: 0.2em;padding-left: 0.2em;position: relative;}#sk-container-id-1 div.sk-item {position: relative;z-index: 1;}#sk-container-id-1 div.sk-parallel {display: flex;align-items: stretch;justify-content: center;background-color: white;position: relative;}#sk-container-id-1 div.sk-item::before, #sk-container-id-1 div.sk-parallel-item::before {content: \"\";position: absolute;border-left: 1px solid gray;box-sizing: border-box;top: 0;bottom: 0;left: 50%;z-index: -1;}#sk-container-id-1 div.sk-parallel-item {display: flex;flex-direction: column;z-index: 1;position: relative;background-color: white;}#sk-container-id-1 div.sk-parallel-item:first-child::after {align-self: flex-end;width: 50%;}#sk-container-id-1 div.sk-parallel-item:last-child::after {align-self: flex-start;width: 50%;}#sk-container-id-1 div.sk-parallel-item:only-child::after {width: 0;}#sk-container-id-1 div.sk-dashed-wrapped {border: 1px dashed gray;margin: 0 0.4em 0.5em 0.4em;box-sizing: border-box;padding-bottom: 0.4em;background-color: white;}#sk-container-id-1 div.sk-label label {font-family: monospace;font-weight: bold;display: inline-block;line-height: 1.2em;}#sk-container-id-1 div.sk-label-container {text-align: center;}#sk-container-id-1 div.sk-container {/* jupyter's `normalize.less` sets `[hidden] { display: none; }` but bootstrap.min.css set `[hidden] { display: none !important; }` so we also need the `!important` here to be able to override the default hidden behavior on the sphinx rendered scikit-learn.org. See: https://github.com/scikit-learn/scikit-learn/issues/21755 */display: inline-block !important;position: relative;}#sk-container-id-1 div.sk-text-repr-fallback {display: none;}</style><div id=\"sk-container-id-1\" class=\"sk-top-container\"><div class=\"sk-text-repr-fallback\"><pre>FactorAnalyzer(n_factors=4, rotation=&#x27;oblimin&#x27;, rotation_kwargs={})</pre><b>In a Jupyter environment, please rerun this cell to show the HTML representation or trust the notebook. <br />On GitHub, the HTML representation is unable to render, please try loading this page with nbviewer.org.</b></div><div class=\"sk-container\" hidden><div class=\"sk-item\"><div class=\"sk-estimator sk-toggleable\"><input class=\"sk-toggleable__control sk-hidden--visually\" id=\"sk-estimator-id-1\" type=\"checkbox\" checked><label for=\"sk-estimator-id-1\" class=\"sk-toggleable__label sk-toggleable__label-arrow\">FactorAnalyzer</label><div class=\"sk-toggleable__content\"><pre>FactorAnalyzer(n_factors=4, rotation=&#x27;oblimin&#x27;, rotation_kwargs={})</pre></div></div></div></div></div>"
      ],
      "text/plain": [
       "FactorAnalyzer(n_factors=4, rotation='oblimin', rotation_kwargs={})"
      ]
     },
     "execution_count": 7,
     "metadata": {},
     "output_type": "execute_result"
    }
   ],
   "source": [
    "fa = FactorAnalyzer(n_factors=4, method='minres',rotation='oblimin')\n",
    "fa.fit(factors)"
   ]
  },
  {
   "cell_type": "code",
   "execution_count": 8,
   "metadata": {},
   "outputs": [
    {
     "data": {
      "text/html": [
       "<div>\n",
       "<style scoped>\n",
       "    .dataframe tbody tr th:only-of-type {\n",
       "        vertical-align: middle;\n",
       "    }\n",
       "\n",
       "    .dataframe tbody tr th {\n",
       "        vertical-align: top;\n",
       "    }\n",
       "\n",
       "    .dataframe thead th {\n",
       "        text-align: right;\n",
       "    }\n",
       "</style>\n",
       "<table border=\"1\" class=\"dataframe\">\n",
       "  <thead>\n",
       "    <tr style=\"text-align: right;\">\n",
       "      <th></th>\n",
       "      <th>Factor 1</th>\n",
       "      <th>Factor 2</th>\n",
       "      <th>Factor 3</th>\n",
       "      <th>Factor 4</th>\n",
       "      <th>Uniquenesses</th>\n",
       "      <th>Communality</th>\n",
       "    </tr>\n",
       "  </thead>\n",
       "  <tbody>\n",
       "    <tr>\n",
       "      <th>p1</th>\n",
       "      <td>-0.105543</td>\n",
       "      <td>0.141635</td>\n",
       "      <td>0.606951</td>\n",
       "      <td>-0.015797</td>\n",
       "      <td>0.600161</td>\n",
       "      <td>0.399839</td>\n",
       "    </tr>\n",
       "    <tr>\n",
       "      <th>p2</th>\n",
       "      <td>-0.048244</td>\n",
       "      <td>0.147874</td>\n",
       "      <td>0.524042</td>\n",
       "      <td>0.151258</td>\n",
       "      <td>0.678306</td>\n",
       "      <td>0.321694</td>\n",
       "    </tr>\n",
       "    <tr>\n",
       "      <th>p3</th>\n",
       "      <td>0.038505</td>\n",
       "      <td>0.088047</td>\n",
       "      <td>0.694484</td>\n",
       "      <td>-0.050364</td>\n",
       "      <td>0.505920</td>\n",
       "      <td>0.494080</td>\n",
       "    </tr>\n",
       "    <tr>\n",
       "      <th>p4</th>\n",
       "      <td>0.077793</td>\n",
       "      <td>-0.104214</td>\n",
       "      <td>0.866716</td>\n",
       "      <td>0.050859</td>\n",
       "      <td>0.229304</td>\n",
       "      <td>0.770696</td>\n",
       "    </tr>\n",
       "    <tr>\n",
       "      <th>p5</th>\n",
       "      <td>-0.054261</td>\n",
       "      <td>0.054397</td>\n",
       "      <td>0.735219</td>\n",
       "      <td>-0.026568</td>\n",
       "      <td>0.452845</td>\n",
       "      <td>0.547155</td>\n",
       "    </tr>\n",
       "    <tr>\n",
       "      <th>s1</th>\n",
       "      <td>0.246765</td>\n",
       "      <td>0.005734</td>\n",
       "      <td>0.141074</td>\n",
       "      <td>0.490304</td>\n",
       "      <td>0.678774</td>\n",
       "      <td>0.321226</td>\n",
       "    </tr>\n",
       "    <tr>\n",
       "      <th>s2</th>\n",
       "      <td>-0.069522</td>\n",
       "      <td>0.149001</td>\n",
       "      <td>-0.025774</td>\n",
       "      <td>0.690302</td>\n",
       "      <td>0.495784</td>\n",
       "      <td>0.504216</td>\n",
       "    </tr>\n",
       "    <tr>\n",
       "      <th>s3</th>\n",
       "      <td>0.034305</td>\n",
       "      <td>-0.012013</td>\n",
       "      <td>-0.009534</td>\n",
       "      <td>0.792981</td>\n",
       "      <td>0.369770</td>\n",
       "      <td>0.630230</td>\n",
       "    </tr>\n",
       "    <tr>\n",
       "      <th>s4</th>\n",
       "      <td>0.152001</td>\n",
       "      <td>-0.003513</td>\n",
       "      <td>0.044657</td>\n",
       "      <td>0.672500</td>\n",
       "      <td>0.522632</td>\n",
       "      <td>0.477368</td>\n",
       "    </tr>\n",
       "    <tr>\n",
       "      <th>s5</th>\n",
       "      <td>-0.237226</td>\n",
       "      <td>-0.025667</td>\n",
       "      <td>0.097765</td>\n",
       "      <td>0.543058</td>\n",
       "      <td>0.638595</td>\n",
       "      <td>0.361405</td>\n",
       "    </tr>\n",
       "    <tr>\n",
       "      <th>c1</th>\n",
       "      <td>0.060252</td>\n",
       "      <td>0.756271</td>\n",
       "      <td>0.118594</td>\n",
       "      <td>-0.093244</td>\n",
       "      <td>0.401665</td>\n",
       "      <td>0.598335</td>\n",
       "    </tr>\n",
       "    <tr>\n",
       "      <th>c2</th>\n",
       "      <td>0.056234</td>\n",
       "      <td>0.821803</td>\n",
       "      <td>0.016192</td>\n",
       "      <td>-0.014880</td>\n",
       "      <td>0.320995</td>\n",
       "      <td>0.679005</td>\n",
       "    </tr>\n",
       "    <tr>\n",
       "      <th>c3</th>\n",
       "      <td>-0.014320</td>\n",
       "      <td>0.835664</td>\n",
       "      <td>-0.067713</td>\n",
       "      <td>0.072249</td>\n",
       "      <td>0.291656</td>\n",
       "      <td>0.708344</td>\n",
       "    </tr>\n",
       "    <tr>\n",
       "      <th>c4</th>\n",
       "      <td>-0.006546</td>\n",
       "      <td>0.809315</td>\n",
       "      <td>0.002149</td>\n",
       "      <td>-0.011052</td>\n",
       "      <td>0.344840</td>\n",
       "      <td>0.655160</td>\n",
       "    </tr>\n",
       "    <tr>\n",
       "      <th>c5</th>\n",
       "      <td>0.000183</td>\n",
       "      <td>0.752428</td>\n",
       "      <td>0.040795</td>\n",
       "      <td>0.101497</td>\n",
       "      <td>0.421887</td>\n",
       "      <td>0.578113</td>\n",
       "    </tr>\n",
       "    <tr>\n",
       "      <th>e1</th>\n",
       "      <td>0.785769</td>\n",
       "      <td>0.082922</td>\n",
       "      <td>-0.006673</td>\n",
       "      <td>0.071859</td>\n",
       "      <td>0.370482</td>\n",
       "      <td>0.629518</td>\n",
       "    </tr>\n",
       "    <tr>\n",
       "      <th>e2</th>\n",
       "      <td>0.851458</td>\n",
       "      <td>0.035821</td>\n",
       "      <td>0.008341</td>\n",
       "      <td>0.040734</td>\n",
       "      <td>0.272008</td>\n",
       "      <td>0.727992</td>\n",
       "    </tr>\n",
       "    <tr>\n",
       "      <th>e3</th>\n",
       "      <td>0.802462</td>\n",
       "      <td>-0.017187</td>\n",
       "      <td>0.036556</td>\n",
       "      <td>-0.013501</td>\n",
       "      <td>0.354241</td>\n",
       "      <td>0.645759</td>\n",
       "    </tr>\n",
       "    <tr>\n",
       "      <th>e4</th>\n",
       "      <td>0.796797</td>\n",
       "      <td>0.069406</td>\n",
       "      <td>0.014892</td>\n",
       "      <td>-0.066455</td>\n",
       "      <td>0.355659</td>\n",
       "      <td>0.644341</td>\n",
       "    </tr>\n",
       "    <tr>\n",
       "      <th>e5</th>\n",
       "      <td>0.851937</td>\n",
       "      <td>-0.069840</td>\n",
       "      <td>-0.022122</td>\n",
       "      <td>0.009415</td>\n",
       "      <td>0.268747</td>\n",
       "      <td>0.731253</td>\n",
       "    </tr>\n",
       "  </tbody>\n",
       "</table>\n",
       "</div>"
      ],
      "text/plain": [
       "    Factor 1  Factor 2  Factor 3  Factor 4  Uniquenesses  Communality\n",
       "p1 -0.105543  0.141635  0.606951 -0.015797      0.600161     0.399839\n",
       "p2 -0.048244  0.147874  0.524042  0.151258      0.678306     0.321694\n",
       "p3  0.038505  0.088047  0.694484 -0.050364      0.505920     0.494080\n",
       "p4  0.077793 -0.104214  0.866716  0.050859      0.229304     0.770696\n",
       "p5 -0.054261  0.054397  0.735219 -0.026568      0.452845     0.547155\n",
       "s1  0.246765  0.005734  0.141074  0.490304      0.678774     0.321226\n",
       "s2 -0.069522  0.149001 -0.025774  0.690302      0.495784     0.504216\n",
       "s3  0.034305 -0.012013 -0.009534  0.792981      0.369770     0.630230\n",
       "s4  0.152001 -0.003513  0.044657  0.672500      0.522632     0.477368\n",
       "s5 -0.237226 -0.025667  0.097765  0.543058      0.638595     0.361405\n",
       "c1  0.060252  0.756271  0.118594 -0.093244      0.401665     0.598335\n",
       "c2  0.056234  0.821803  0.016192 -0.014880      0.320995     0.679005\n",
       "c3 -0.014320  0.835664 -0.067713  0.072249      0.291656     0.708344\n",
       "c4 -0.006546  0.809315  0.002149 -0.011052      0.344840     0.655160\n",
       "c5  0.000183  0.752428  0.040795  0.101497      0.421887     0.578113\n",
       "e1  0.785769  0.082922 -0.006673  0.071859      0.370482     0.629518\n",
       "e2  0.851458  0.035821  0.008341  0.040734      0.272008     0.727992\n",
       "e3  0.802462 -0.017187  0.036556 -0.013501      0.354241     0.645759\n",
       "e4  0.796797  0.069406  0.014892 -0.066455      0.355659     0.644341\n",
       "e5  0.851937 -0.069840 -0.022122  0.009415      0.268747     0.731253"
      ]
     },
     "execution_count": 8,
     "metadata": {},
     "output_type": "execute_result"
    }
   ],
   "source": [
    "factor_loadings = pd.DataFrame(fa.loadings_, columns=['Factor 1', 'Factor 2', 'Factor 3', 'Factor 4'], index=[factors.columns])\n",
    "factor_loadings['Uniquenesses'] = fa.get_uniquenesses()\n",
    "factor_loadings['Communality'] = fa.get_communalities()\n",
    "factor_loadings.to_csv('loadings.csv')\n",
    "factor_loadings"
   ]
  },
  {
   "cell_type": "code",
   "execution_count": 9,
   "metadata": {},
   "outputs": [
    {
     "data": {
      "text/html": [
       "<div>\n",
       "<style scoped>\n",
       "    .dataframe tbody tr th:only-of-type {\n",
       "        vertical-align: middle;\n",
       "    }\n",
       "\n",
       "    .dataframe tbody tr th {\n",
       "        vertical-align: top;\n",
       "    }\n",
       "\n",
       "    .dataframe thead th {\n",
       "        text-align: right;\n",
       "    }\n",
       "</style>\n",
       "<table border=\"1\" class=\"dataframe\">\n",
       "  <thead>\n",
       "    <tr style=\"text-align: right;\">\n",
       "      <th></th>\n",
       "      <th>Cronbach alpha</th>\n",
       "    </tr>\n",
       "  </thead>\n",
       "  <tbody>\n",
       "    <tr>\n",
       "      <th>Personal factor</th>\n",
       "      <td>0.845497</td>\n",
       "    </tr>\n",
       "    <tr>\n",
       "      <th>Social factor</th>\n",
       "      <td>0.801688</td>\n",
       "    </tr>\n",
       "    <tr>\n",
       "      <th>Course factor</th>\n",
       "      <td>0.909974</td>\n",
       "    </tr>\n",
       "    <tr>\n",
       "      <th>Economic factor</th>\n",
       "      <td>0.915486</td>\n",
       "    </tr>\n",
       "  </tbody>\n",
       "</table>\n",
       "</div>"
      ],
      "text/plain": [
       "                 Cronbach alpha\n",
       "Personal factor        0.845497\n",
       "Social factor          0.801688\n",
       "Course factor          0.909974\n",
       "Economic factor        0.915486"
      ]
     },
     "execution_count": 9,
     "metadata": {},
     "output_type": "execute_result"
    }
   ],
   "source": [
    "p = factors[['p1', 'p2', 'p3', 'p4', 'p5']]\n",
    "s = factors[['s1', 's2', 's3', 's4', 's5']]\n",
    "c = factors[['c1', 'c2', 'c3', 'c4', 'c5']]\n",
    "e = factors[['e1', 'e2', 'e3', 'e4', 'e5']]\n",
    "\n",
    "cronbach_p = pg.cronbach_alpha(data=p)\n",
    "cronbach_s = pg.cronbach_alpha(data=s)\n",
    "cronbach_c = pg.cronbach_alpha(data=c)\n",
    "cronbach_e = pg.cronbach_alpha(data=e)\n",
    "\n",
    "values = [\n",
    "    cronbach_p[0],\n",
    "    cronbach_s[0],\n",
    "    cronbach_c[0],\n",
    "    cronbach_e[0],\n",
    "]\n",
    "\n",
    "cronbach_all = pd.DataFrame(values, columns=['Cronbach alpha'], index=['Personal factor', 'Social factor', 'Course factor', 'Economic factor'])\n",
    "cronbach_all.to_csv('Cronbach.csv')\n",
    "cronbach_all"
   ]
  },
  {
   "cell_type": "code",
   "execution_count": 10,
   "metadata": {},
   "outputs": [],
   "source": [
    "def compute_cronbach_if_one_item_removed(dataframe):\n",
    "    values = []\n",
    "    new_df = dataframe.copy()\n",
    "    for col in new_df:\n",
    "        one_item_removed = dataframe.drop([col], axis=1)\n",
    "        result = pg.cronbach_alpha(data=one_item_removed)\n",
    "        values.append(result[0])\n",
    "        new_df = dataframe.copy()\n",
    "    return values\n",
    "\n",
    "def compute_the_cronbach_and_save_df(dataframe, title):\n",
    "    details = {\n",
    "        title: compute_cronbach_if_one_item_removed(dataframe)\n",
    "    }\n",
    "    results = pd.DataFrame(details, index=dataframe.columns)\n",
    "    results.to_csv(f'{title} if item removed.csv')"
   ]
  },
  {
   "cell_type": "code",
   "execution_count": 11,
   "metadata": {},
   "outputs": [],
   "source": [
    "compute_the_cronbach_and_save_df(p, \"Personal factor\")\n",
    "compute_the_cronbach_and_save_df(c, \"Course factor\")\n",
    "compute_the_cronbach_and_save_df(e, \"Economic factor\")\n",
    "compute_the_cronbach_and_save_df(s, \"Social factor\")"
   ]
  },
  {
   "cell_type": "code",
   "execution_count": 12,
   "metadata": {},
   "outputs": [
    {
     "data": {
      "text/html": [
       "<div>\n",
       "<style scoped>\n",
       "    .dataframe tbody tr th:only-of-type {\n",
       "        vertical-align: middle;\n",
       "    }\n",
       "\n",
       "    .dataframe tbody tr th {\n",
       "        vertical-align: top;\n",
       "    }\n",
       "\n",
       "    .dataframe thead th {\n",
       "        text-align: right;\n",
       "    }\n",
       "</style>\n",
       "<table border=\"1\" class=\"dataframe\">\n",
       "  <thead>\n",
       "    <tr style=\"text-align: right;\">\n",
       "      <th></th>\n",
       "      <th>Factor 1</th>\n",
       "      <th>Factor 2</th>\n",
       "      <th>Factor 3</th>\n",
       "      <th>Factor 4</th>\n",
       "    </tr>\n",
       "  </thead>\n",
       "  <tbody>\n",
       "    <tr>\n",
       "      <th>SS Loadings</th>\n",
       "      <td>3.524311</td>\n",
       "      <td>3.271475</td>\n",
       "      <td>2.472013</td>\n",
       "      <td>2.157930</td>\n",
       "    </tr>\n",
       "    <tr>\n",
       "      <th>Proportion Var</th>\n",
       "      <td>0.176216</td>\n",
       "      <td>0.163574</td>\n",
       "      <td>0.123601</td>\n",
       "      <td>0.107896</td>\n",
       "    </tr>\n",
       "    <tr>\n",
       "      <th>Cumulative Var</th>\n",
       "      <td>0.176216</td>\n",
       "      <td>0.339789</td>\n",
       "      <td>0.463390</td>\n",
       "      <td>0.571286</td>\n",
       "    </tr>\n",
       "  </tbody>\n",
       "</table>\n",
       "</div>"
      ],
      "text/plain": [
       "                Factor 1  Factor 2  Factor 3  Factor 4\n",
       "SS Loadings     3.524311  3.271475  2.472013  2.157930\n",
       "Proportion Var  0.176216  0.163574  0.123601  0.107896\n",
       "Cumulative Var  0.176216  0.339789  0.463390  0.571286"
      ]
     },
     "execution_count": 12,
     "metadata": {},
     "output_type": "execute_result"
    }
   ],
   "source": [
    "factor_summary = pd.DataFrame(fa.get_factor_variance(), columns=['Factor 1','Factor 2','Factor 3','Factor 4'], index=['SS Loadings','Proportion Var','Cumulative Var'])\n",
    "factor_summary.to_csv('factor_variance.csv')\n",
    "factor_summary"
   ]
  },
  {
   "cell_type": "code",
   "execution_count": 13,
   "metadata": {},
   "outputs": [],
   "source": [
    "factor_score = pd.DataFrame(fa.transform(factors), columns=['Economic factor', 'Course factor', 'Personal factor', 'Social factor'])\n",
    "factor_score.to_csv(\"Factors.csv\", index=False)"
   ]
  }
 ],
 "metadata": {
  "interpreter": {
   "hash": "a4c96b2dc6ad5c4f508d69f4320d2fb8afa26a1f46270275ec28a18b6e5061e8"
  },
  "kernelspec": {
   "display_name": "Python 3.8.10 ('venv': venv)",
   "language": "python",
   "name": "python3"
  },
  "language_info": {
   "codemirror_mode": {
    "name": "ipython",
    "version": 3
   },
   "file_extension": ".py",
   "mimetype": "text/x-python",
   "name": "python",
   "nbconvert_exporter": "python",
   "pygments_lexer": "ipython3",
   "version": "3.8.10"
  },
  "orig_nbformat": 4
 },
 "nbformat": 4,
 "nbformat_minor": 2
}
